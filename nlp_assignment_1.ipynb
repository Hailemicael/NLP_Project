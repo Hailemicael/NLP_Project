{
  "nbformat": 4,
  "nbformat_minor": 0,
  "metadata": {
    "colab": {
      "provenance": [],
      "name": "nlp_assignment_1.ipynb",
      "authorship_tag": "ABX9TyPfel0kfrvJYp7CGz/fGZJS",
      "include_colab_link": true
    },
    "kernelspec": {
      "name": "python3",
      "display_name": "Python 3"
    },
    "language_info": {
      "name": "python"
    }
  },
  "cells": [
    {
      "cell_type": "markdown",
      "metadata": {
        "id": "view-in-github",
        "colab_type": "text"
      },
      "source": [
        "<a href=\"https://colab.research.google.com/github/Hailemicael/NLP_Project/blob/master/nlp_assignment_1.ipynb\" target=\"_parent\"><img src=\"https://colab.research.google.com/assets/colab-badge.svg\" alt=\"Open In Colab\"/></a>"
      ]
    },
    {
      "cell_type": "code",
      "execution_count": null,
      "metadata": {
        "colab": {
          "base_uri": "https://localhost:8080/"
        },
        "id": "j_UFJySkyARX",
        "outputId": "489ea262-f760-430e-c216-41cdc768599f"
      },
      "outputs": [
        {
          "output_type": "stream",
          "name": "stdout",
          "text": [
            "Requirement already satisfied: wikipedia-api in /usr/local/lib/python3.10/dist-packages (0.6.0)\n",
            "Requirement already satisfied: requests in /usr/local/lib/python3.10/dist-packages (from wikipedia-api) (2.31.0)\n",
            "Requirement already satisfied: charset-normalizer<4,>=2 in /usr/local/lib/python3.10/dist-packages (from requests->wikipedia-api) (3.3.2)\n",
            "Requirement already satisfied: idna<4,>=2.5 in /usr/local/lib/python3.10/dist-packages (from requests->wikipedia-api) (3.6)\n",
            "Requirement already satisfied: urllib3<3,>=1.21.1 in /usr/local/lib/python3.10/dist-packages (from requests->wikipedia-api) (2.0.7)\n",
            "Requirement already satisfied: certifi>=2017.4.17 in /usr/local/lib/python3.10/dist-packages (from requests->wikipedia-api) (2023.11.17)\n"
          ]
        }
      ],
      "source": [
        "!pip install wikipedia-api"
      ]
    },
    {
      "cell_type": "code",
      "source": [
        "# Import libraries for our project\n",
        "import pandas as pd\n",
        "import wikipediaapi\n",
        "from bs4 import BeautifulSoup\n",
        "import re\n",
        "from nltk.tokenize import word_tokenize\n",
        "from nltk.corpus import stopwords\n",
        "from nltk.stem import WordNetLemmatizer\n",
        "\n",
        "# Download NLTK resources\n",
        "import nltk\n",
        "nltk.download('punkt')\n",
        "nltk.download('stopwords')\n",
        "nltk.download('wordnet')\n"
      ],
      "metadata": {
        "colab": {
          "base_uri": "https://localhost:8080/"
        },
        "id": "Cn-klk_OyDl7",
        "outputId": "a09fddd6-8c0d-426f-8fe9-01d79c74b692"
      },
      "execution_count": null,
      "outputs": [
        {
          "output_type": "stream",
          "name": "stderr",
          "text": [
            "[nltk_data] Downloading package punkt to /root/nltk_data...\n",
            "[nltk_data]   Package punkt is already up-to-date!\n",
            "[nltk_data] Downloading package stopwords to /root/nltk_data...\n",
            "[nltk_data]   Package stopwords is already up-to-date!\n",
            "[nltk_data] Downloading package wordnet to /root/nltk_data...\n",
            "[nltk_data]   Package wordnet is already up-to-date!\n"
          ]
        },
        {
          "output_type": "execute_result",
          "data": {
            "text/plain": [
              "True"
            ]
          },
          "metadata": {},
          "execution_count": 8
        }
      ]
    },
    {
      "cell_type": "code",
      "source": [
        "# Set up wikipediaapi\n",
        "wiki_wiki = wikipediaapi.Wikipedia('NLP_Project(hailelulseged281913@gmail.com)', 'en')\n"
      ],
      "metadata": {
        "id": "ioxnvmD_0g0E"
      },
      "execution_count": null,
      "outputs": []
    },
    {
      "cell_type": "code",
      "source": [
        "# List of medical and non-medical keywords\n",
        "medical_keywords = [\"Medicine\", \"Cardiology\", \"Surgery\", \"Health\", \"Pharmacy\", \"Immunology\",\n",
        "                    \"Pathology\", \"Pediatrics\", \"Oncology\", \"Neurology\", \"Dentistry\", \"vascular\",\n",
        "                    \"orthopedic\", \"dermatology\", \"endocrinology\", \"gastroenterology\", \"pulmonary\", \"neurosurgery\",\n",
        "                    \"ophthalmology\", \"radiology\", \"anesthesiology\", \"genetics\", \"oncologist\", \"hematology\",\n",
        "                    \"immunotherapy\", \"pediatrician\", \"psychiatry\", \"dentist\", \"Anatomy\",\n",
        "                    \"Physiology\", \"Biochemistry\", \"balanced diet\", \"Ailment\", \"Affliction\", \"Illness\", \"Sickness\",\n",
        "                    \"Hereditary\", \"Infectious\", \"Pandemic\", \"nurse\", \"Doctor\", \"Alzheimer\", \"virus\", \"surgery\"]\n",
        "\n",
        "non_medical_keywords = [\"Art\", \"Literature\", \"Philosophy\", \"Science\", \"Technology\", \"Space\",\n",
        "                        \"Environment\", \"Food\", \"Cuisine\", \"Recipes\", \"Cooking\", \"History\", \"Ancient_Civilizations\",\n",
        "                        \"Archaeology\", \"painting\", \"sculpture\", \"literary\", \"fiction\", \"poetry\", \"philosopher\",\n",
        "                        \"culinary\", \"gastronomy\", \"recipe\", \"culinary\", \"history\", \"historical\", \"architectural\",\n",
        "                        \"archaeological\", \"civilization\", \"culture\", \"Engineering\", \"Astronomy\", \"Cosmology\", \"country\", \"Industry\", \"ocean\", \"charger\", \"battery\", \"music\", \"dance\", \"painting\", \"sculpture\", \"artistic\", \"novel\"]\n"
      ],
      "metadata": {
        "id": "akPls5Lq0vP_"
      },
      "execution_count": null,
      "outputs": []
    },
    {
      "cell_type": "code",
      "source": [
        "# Function to fetch content from Wikipedia using wikipediaapi\n",
        "def fetch_content(title, wiki_wiki):\n",
        "    # Fetches content from Wikipedia for a given title.\n",
        "    page_py = wiki_wiki.page(title)\n",
        "    content = page_py.text\n",
        "\n",
        "    return content\n",
        "\n",
        "# Fetch content for medical keywords\n",
        "medical_content_list = [fetch_content(keyword, wiki_wiki) for keyword in medical_keywords]\n",
        "# print(\"Fetched content for medical keywords:\")\n",
        "# print(medical_content_list)\n",
        "# Fetch content for non-medical keywords\n",
        "non_medical_content_list = [fetch_content(keyword, wiki_wiki) for keyword in non_medical_keywords]\n",
        "# print(\"Fetched content for non-medical keywords:\")\n",
        "# print(non_medical_content_list)"
      ],
      "metadata": {
        "id": "FcC4De8Z06As"
      },
      "execution_count": null,
      "outputs": []
    },
    {
      "cell_type": "code",
      "source": [
        "# Function to fetch content from Wikipedia using wikipediaapi\n",
        "def fetch_content(title, wiki_wiki):\n",
        "    # Fetches content from Wikipedia for a given title.\n",
        "    page_py = wiki_wiki.page(title)\n",
        "    content = page_py.text\n",
        "\n",
        "    # Clean the content\n",
        "    cleaned_content = clean_text(content)\n",
        "\n",
        "    return cleaned_content\n",
        "\n",
        "\n"
      ],
      "metadata": {
        "id": "IUkxDPY5zTlz"
      },
      "execution_count": null,
      "outputs": []
    },
    {
      "cell_type": "code",
      "source": [
        "# Function to clean text (remove HTML tags, references, etc.)\n",
        "def clean_text(text):\n",
        "    # Remove HTML tags and comments\n",
        "    soup = BeautifulSoup(text, \"html.parser\")\n",
        "    clean_text = soup.get_text(separator=\" \")\n",
        "\n",
        "    # Remove special characters and non-alphabetic characters\n",
        "    clean_text = re.sub(r\"[^a-zA-Z\\s]\", \"\", clean_text)\n",
        "\n",
        "    # Tokenize the text\n",
        "    tokens = word_tokenize(clean_text.lower())\n",
        "\n",
        "    # Remove stop words\n",
        "    stop_words = set(stopwords.words('english'))\n",
        "    tokens = [token for token in tokens if token not in stop_words]\n",
        "\n",
        "    # Lemmatize the tokens\n",
        "    lemmatizer = WordNetLemmatizer()\n",
        "    tokens = [lemmatizer.lemmatize(token) for token in tokens]\n",
        "\n",
        "    # Remove extra whitespaces\n",
        "    clean_text = \" \".join(tokens)\n",
        "\n",
        "    return clean_text\n",
        "# Clean medical content\n",
        "cleaned_medical_content_list = [clean_text(content) for content in medical_content_list]\n",
        "# print(\"Text cleaning applied to medical content:\")\n",
        "# print(cleaned_medical_content_list)\n",
        "# Clean non-medical content\n",
        "cleaned_non_medical_content_list = [clean_text(content) for content in non_medical_content_list]\n",
        "# print(\"Text cleaning applied to non-medical content:\")\n",
        "# print(cleaned_non_medical_content_list)\n"
      ],
      "metadata": {
        "id": "erSFWTZh1TT3"
      },
      "execution_count": null,
      "outputs": []
    },
    {
      "cell_type": "code",
      "source": [
        "# Create a DataFrame with the fetched and cleaned data\n",
        "medical_data = {\"text\": cleaned_medical_content_list, \"label\": [\"medical\"] * len(cleaned_medical_content_list)}\n",
        "non_medical_data = {\"text\": cleaned_non_medical_content_list, \"label\": [\"non-medical\"] * len(cleaned_non_medical_content_list)}\n",
        "\n",
        "df_medical = pd.DataFrame(medical_data)\n",
        "df_non_medical = pd.DataFrame(non_medical_data)\n",
        "# Concatenate the dataframes and shuffle rows\n",
        "df = pd.concat([df_medical, df_non_medical], ignore_index=True).sample(frac=1)\n",
        "\n"
      ],
      "metadata": {
        "id": "rGczoxhO1XOu"
      },
      "execution_count": null,
      "outputs": []
    },
    {
      "cell_type": "code",
      "source": [
        "# Check the updated dataset\n",
        "print(\"Updated Dataset:\")\n",
        "print(df)\n",
        "df.to_csv('medical_non_medical_dataset.csv', index=False)\n",
        "print(\"Dataset saved as 'medical_non_medical_dataset'\")\n"
      ],
      "metadata": {
        "colab": {
          "base_uri": "https://localhost:8080/"
        },
        "id": "twJVuCKV1z37",
        "outputId": "44bd75ee-a3ad-40cb-dd2d-61cfc105a5c7"
      },
      "execution_count": null,
      "outputs": [
        {
          "output_type": "stream",
          "name": "stdout",
          "text": [
            "Updated Dataset:\n",
            "                                                 text        label\n",
            "79  world ocean sea body salt water cover earth en...  non-medical\n",
            "73  culture kulchr concept encompasses social beha...  non-medical\n",
            "83  dance art form often classified sport consisti...  non-medical\n",
            "54  cooking also known cookery professionally culi...  non-medical\n",
            "59  sculpture branch visual art operates three dim...  non-medical\n",
            "..                                                ...          ...\n",
            "66  recipe set instruction describes prepare make ...  non-medical\n",
            "53  recipe set instruction describes prepare make ...  non-medical\n",
            "44  art diverse range human activity resulting pro...  non-medical\n",
            "0   medicine science practice caring patient manag...      medical\n",
            "41  alzheimers disease ad neurodegenerative diseas...      medical\n",
            "\n",
            "[88 rows x 2 columns]\n",
            "Dataset saved as 'medical_non_medical_dataset'\n"
          ]
        }
      ]
    },
    {
      "cell_type": "markdown",
      "source": [
        "# Model training using Naive_bayes\n"
      ],
      "metadata": {
        "id": "g4rbsWk1Hkzi"
      }
    },
    {
      "cell_type": "code",
      "source": [
        "## Model training using naive_bayes\n",
        "\n",
        "import pandas as pd\n",
        "import numpy as np\n",
        "import matplotlib.pyplot as plt\n",
        "from sklearn.model_selection import train_test_split, learning_curve\n",
        "from sklearn.feature_extraction.text import TfidfVectorizer\n",
        "from sklearn.naive_bayes import MultinomialNB\n",
        "from sklearn.metrics import accuracy_score, classification_report\n",
        "from imblearn.over_sampling import SMOTE\n",
        "\n",
        "# Load the cleaned dataset\n",
        "df = pd.read_csv('medical_non_medical_dataset.csv')\n",
        "\n",
        "# Check class distribution\n",
        "print(\"Original Data Distribution:\")\n",
        "print(df['label'].value_counts())\n"
      ],
      "metadata": {
        "colab": {
          "base_uri": "https://localhost:8080/"
        },
        "id": "Gcm8eYXW4CWs",
        "outputId": "4f1f46ae-6d7f-45d3-baf8-236c67112b3e"
      },
      "execution_count": 1,
      "outputs": [
        {
          "output_type": "stream",
          "name": "stdout",
          "text": [
            "Original Data Distribution:\n",
            "non-medical    44\n",
            "medical        44\n",
            "Name: label, dtype: int64\n"
          ]
        }
      ]
    },
    {
      "cell_type": "code",
      "source": [
        "# Data Splitting\n",
        "X_train, X_temp, y_train, y_temp = train_test_split(df['text'], df['label'], test_size=0.3, random_state=100)\n",
        "\n",
        "# Further split X_temp and y_temp into training and validation sets\n",
        "X_train, X_val, y_train, y_val = train_test_split(X_temp, y_temp, test_size=0.4, random_state=100)\n",
        "\n",
        "# Handle missing values in X_train, X_val, and X_test\n",
        "X_train = X_train.fillna('')\n",
        "X_val = X_val.fillna('')\n",
        "X_temp = X_temp.fillna('')\n"
      ],
      "metadata": {
        "id": "mizadYYv4ZLv"
      },
      "execution_count": 2,
      "outputs": []
    },
    {
      "cell_type": "code",
      "source": [
        "# Feature Extraction (TF-IDF)\n",
        "tfidf_vectorizer = TfidfVectorizer(stop_words='english')\n",
        "X_train_tfidf = tfidf_vectorizer.fit_transform(X_train)\n",
        "X_val_tfidf = tfidf_vectorizer.transform(X_val)\n",
        "X_temp_tfidf = tfidf_vectorizer.transform(X_temp)\n"
      ],
      "metadata": {
        "id": "BFNGsVkR4ioq"
      },
      "execution_count": 3,
      "outputs": []
    },
    {
      "cell_type": "code",
      "source": [
        "# Resampling using SMOTE\n",
        "sampler = SMOTE(sampling_strategy='auto', k_neighbors=min(5, len(y_train) - 1))\n",
        "X_train_resampled, y_train_resampled = sampler.fit_resample(X_train_tfidf, y_train)\n"
      ],
      "metadata": {
        "id": "UMp8w_0t4mMv"
      },
      "execution_count": 4,
      "outputs": []
    },
    {
      "cell_type": "code",
      "source": [
        "# Model Selection and Training (Naive Bayes)\n",
        "nb_model = MultinomialNB()\n",
        "nb_model.fit(X_train_resampled, y_train_resampled)\n"
      ],
      "metadata": {
        "colab": {
          "base_uri": "https://localhost:8080/",
          "height": 74
        },
        "id": "I2F2P0t64q6b",
        "outputId": "f4326c60-3af8-4de4-a186-caa6e3e040a8"
      },
      "execution_count": 5,
      "outputs": [
        {
          "output_type": "execute_result",
          "data": {
            "text/plain": [
              "MultinomialNB()"
            ],
            "text/html": [
              "<style>#sk-container-id-1 {color: black;background-color: white;}#sk-container-id-1 pre{padding: 0;}#sk-container-id-1 div.sk-toggleable {background-color: white;}#sk-container-id-1 label.sk-toggleable__label {cursor: pointer;display: block;width: 100%;margin-bottom: 0;padding: 0.3em;box-sizing: border-box;text-align: center;}#sk-container-id-1 label.sk-toggleable__label-arrow:before {content: \"▸\";float: left;margin-right: 0.25em;color: #696969;}#sk-container-id-1 label.sk-toggleable__label-arrow:hover:before {color: black;}#sk-container-id-1 div.sk-estimator:hover label.sk-toggleable__label-arrow:before {color: black;}#sk-container-id-1 div.sk-toggleable__content {max-height: 0;max-width: 0;overflow: hidden;text-align: left;background-color: #f0f8ff;}#sk-container-id-1 div.sk-toggleable__content pre {margin: 0.2em;color: black;border-radius: 0.25em;background-color: #f0f8ff;}#sk-container-id-1 input.sk-toggleable__control:checked~div.sk-toggleable__content {max-height: 200px;max-width: 100%;overflow: auto;}#sk-container-id-1 input.sk-toggleable__control:checked~label.sk-toggleable__label-arrow:before {content: \"▾\";}#sk-container-id-1 div.sk-estimator input.sk-toggleable__control:checked~label.sk-toggleable__label {background-color: #d4ebff;}#sk-container-id-1 div.sk-label input.sk-toggleable__control:checked~label.sk-toggleable__label {background-color: #d4ebff;}#sk-container-id-1 input.sk-hidden--visually {border: 0;clip: rect(1px 1px 1px 1px);clip: rect(1px, 1px, 1px, 1px);height: 1px;margin: -1px;overflow: hidden;padding: 0;position: absolute;width: 1px;}#sk-container-id-1 div.sk-estimator {font-family: monospace;background-color: #f0f8ff;border: 1px dotted black;border-radius: 0.25em;box-sizing: border-box;margin-bottom: 0.5em;}#sk-container-id-1 div.sk-estimator:hover {background-color: #d4ebff;}#sk-container-id-1 div.sk-parallel-item::after {content: \"\";width: 100%;border-bottom: 1px solid gray;flex-grow: 1;}#sk-container-id-1 div.sk-label:hover label.sk-toggleable__label {background-color: #d4ebff;}#sk-container-id-1 div.sk-serial::before {content: \"\";position: absolute;border-left: 1px solid gray;box-sizing: border-box;top: 0;bottom: 0;left: 50%;z-index: 0;}#sk-container-id-1 div.sk-serial {display: flex;flex-direction: column;align-items: center;background-color: white;padding-right: 0.2em;padding-left: 0.2em;position: relative;}#sk-container-id-1 div.sk-item {position: relative;z-index: 1;}#sk-container-id-1 div.sk-parallel {display: flex;align-items: stretch;justify-content: center;background-color: white;position: relative;}#sk-container-id-1 div.sk-item::before, #sk-container-id-1 div.sk-parallel-item::before {content: \"\";position: absolute;border-left: 1px solid gray;box-sizing: border-box;top: 0;bottom: 0;left: 50%;z-index: -1;}#sk-container-id-1 div.sk-parallel-item {display: flex;flex-direction: column;z-index: 1;position: relative;background-color: white;}#sk-container-id-1 div.sk-parallel-item:first-child::after {align-self: flex-end;width: 50%;}#sk-container-id-1 div.sk-parallel-item:last-child::after {align-self: flex-start;width: 50%;}#sk-container-id-1 div.sk-parallel-item:only-child::after {width: 0;}#sk-container-id-1 div.sk-dashed-wrapped {border: 1px dashed gray;margin: 0 0.4em 0.5em 0.4em;box-sizing: border-box;padding-bottom: 0.4em;background-color: white;}#sk-container-id-1 div.sk-label label {font-family: monospace;font-weight: bold;display: inline-block;line-height: 1.2em;}#sk-container-id-1 div.sk-label-container {text-align: center;}#sk-container-id-1 div.sk-container {/* jupyter's `normalize.less` sets `[hidden] { display: none; }` but bootstrap.min.css set `[hidden] { display: none !important; }` so we also need the `!important` here to be able to override the default hidden behavior on the sphinx rendered scikit-learn.org. See: https://github.com/scikit-learn/scikit-learn/issues/21755 */display: inline-block !important;position: relative;}#sk-container-id-1 div.sk-text-repr-fallback {display: none;}</style><div id=\"sk-container-id-1\" class=\"sk-top-container\"><div class=\"sk-text-repr-fallback\"><pre>MultinomialNB()</pre><b>In a Jupyter environment, please rerun this cell to show the HTML representation or trust the notebook. <br />On GitHub, the HTML representation is unable to render, please try loading this page with nbviewer.org.</b></div><div class=\"sk-container\" hidden><div class=\"sk-item\"><div class=\"sk-estimator sk-toggleable\"><input class=\"sk-toggleable__control sk-hidden--visually\" id=\"sk-estimator-id-1\" type=\"checkbox\" checked><label for=\"sk-estimator-id-1\" class=\"sk-toggleable__label sk-toggleable__label-arrow\">MultinomialNB</label><div class=\"sk-toggleable__content\"><pre>MultinomialNB()</pre></div></div></div></div></div>"
            ]
          },
          "metadata": {},
          "execution_count": 5
        }
      ]
    },
    {
      "cell_type": "code",
      "source": [
        "# Model Evaluation on Validation Set with Misclassification Analysis\n",
        "val_predictions = nb_model.predict(X_val_tfidf)\n",
        "val_accuracy = accuracy_score(y_val, val_predictions)\n",
        "print(f\"\\nValidation Accuracy: {val_accuracy}\")\n",
        "print(\"Validation Classification Report:\\n\", classification_report(y_val, val_predictions))\n"
      ],
      "metadata": {
        "colab": {
          "base_uri": "https://localhost:8080/"
        },
        "id": "n5eAebrL4wC8",
        "outputId": "8302d48b-505b-4c53-b1b4-0e9ed350ae5a"
      },
      "execution_count": 6,
      "outputs": [
        {
          "output_type": "stream",
          "name": "stdout",
          "text": [
            "\n",
            "Validation Accuracy: 0.9090909090909091\n",
            "Validation Classification Report:\n",
            "               precision    recall  f1-score   support\n",
            "\n",
            "     medical       1.00      0.86      0.92         7\n",
            " non-medical       0.80      1.00      0.89         4\n",
            "\n",
            "    accuracy                           0.91        11\n",
            "   macro avg       0.90      0.93      0.91        11\n",
            "weighted avg       0.93      0.91      0.91        11\n",
            "\n"
          ]
        }
      ]
    },
    {
      "cell_type": "code",
      "source": [
        "# Analyze Misclassifications on Validation Set\n",
        "misclassified_indices = [i for i, (true_label, pred_label) in enumerate(zip(y_val, val_predictions)) if true_label != pred_label]\n",
        "misclassified_examples = X_val.iloc[misclassified_indices].tolist()\n",
        "true_labels = y_val.iloc[misclassified_indices].tolist()\n",
        "pred_labels = val_predictions[misclassified_indices]\n",
        "\n",
        "# print(\"\\nMisclassified Examples on Validation Set:\")\n",
        "# for text, true_label, pred_label in zip(misclassified_examples, true_labels, pred_labels):\n",
        "#     print(f\"Text: {text} - True Label: {true_label} - Predicted Label: {pred_label}\")"
      ],
      "metadata": {
        "id": "6i8yGWp82JFG"
      },
      "execution_count": 8,
      "outputs": []
    },
    {
      "cell_type": "code",
      "source": [
        "# Learning Curve for Overfitting/Underfitting Check\n",
        "train_sizes, train_scores, test_scores = learning_curve(nb_model, X_temp_tfidf, y_temp, cv=5, train_sizes=np.linspace(0.1, 1.0, 10), scoring='accuracy')\n"
      ],
      "metadata": {
        "id": "Tz3W1PQj2QuU"
      },
      "execution_count": 9,
      "outputs": []
    },
    {
      "cell_type": "code",
      "source": [
        "# Plot the learning curve\n",
        "plt.figure(figsize=(10, 6))\n",
        "plt.plot(train_sizes, np.mean(train_scores, axis=1), label='Training Score')\n",
        "plt.plot(train_sizes, np.mean(test_scores, axis=1), label='Cross-Validation Score')\n",
        "plt.title('Learning Curve for Naive Bayes')\n",
        "plt.xlabel('Training Examples')\n",
        "plt.ylabel('Accuracy Score')\n",
        "plt.legend()\n",
        "plt.show()"
      ],
      "metadata": {
        "id": "tQagcxQ52Vb6",
        "outputId": "8b95a4c0-ad15-49ab-b486-86220c96c6d4",
        "colab": {
          "base_uri": "https://localhost:8080/",
          "height": 564
        }
      },
      "execution_count": 10,
      "outputs": [
        {
          "output_type": "display_data",
          "data": {
            "text/plain": [
              "<Figure size 1000x600 with 1 Axes>"
            ],
            "image/png": "[encoded data removed]"
          },
          "metadata": {}
        }
      ]
    },
    {
      "cell_type": "code",
      "source": [
        "# Model Evaluation on Test Set\n",
        "X_temp_resampled, y_temp_resampled = sampler.fit_resample(X_temp_tfidf, y_temp)\n",
        "test_predictions = nb_model.predict(X_temp_resampled)\n",
        "test_accuracy = accuracy_score(y_temp_resampled, test_predictions)\n",
        "print(f\"\\nTest Accuracy: {test_accuracy}\")\n",
        "print(\"Test Classification Report:\\n\", classification_report(y_temp_resampled, test_predictions))"
      ],
      "metadata": {
        "id": "DkAvW4Zv2Y_m",
        "outputId": "8f6ac9a2-176d-41dd-8dd6-dadf306ad169",
        "colab": {
          "base_uri": "https://localhost:8080/"
        }
      },
      "execution_count": 11,
      "outputs": [
        {
          "output_type": "stream",
          "name": "stdout",
          "text": [
            "\n",
            "Test Accuracy: 0.9642857142857143\n",
            "Test Classification Report:\n",
            "               precision    recall  f1-score   support\n",
            "\n",
            "     medical       1.00      0.93      0.96        14\n",
            " non-medical       0.93      1.00      0.97        14\n",
            "\n",
            "    accuracy                           0.96        28\n",
            "   macro avg       0.97      0.96      0.96        28\n",
            "weighted avg       0.97      0.96      0.96        28\n",
            "\n"
          ]
        }
      ]
    },
    {
      "cell_type": "code",
      "source": [
        "# Example of making predictions on Naive Bayes\n",
        "new_data_extended = [\n",
        "    \"heart disease\",\n",
        "    \"expression varies across cultures.\",\n",
        "    \"New year in Ethiopia is good.\",\n",
        "    \"my health is not good\",\n",
        "    \"doctors support patient\",\n",
        "]\n",
        "\n",
        "new_data_extended_tfidf = tfidf_vectorizer.transform(new_data_extended)\n",
        "new_predictions_extended = nb_model.predict(new_data_extended_tfidf)\n",
        "\n",
        "print(\"\\nNaive Bayes Predictions :\")\n",
        "for text, prediction in zip(new_data_extended, new_predictions_extended):\n",
        "    print(f\"{text} - Predicted: {prediction}\")\n"
      ],
      "metadata": {
        "colab": {
          "base_uri": "https://localhost:8080/"
        },
        "id": "GgzL52q140L0",
        "outputId": "957bbcb3-6902-4e50-c17f-23968125ffb4"
      },
      "execution_count": 12,
      "outputs": [
        {
          "output_type": "stream",
          "name": "stdout",
          "text": [
            "\n",
            "Naive Bayes Predictions :\n",
            "heart disease - Predicted: medical\n",
            "expression varies across cultures. - Predicted: non-medical\n",
            "New year in Ethiopia is good. - Predicted: non-medical\n",
            "my health is not good - Predicted: medical\n",
            "doctors support patient - Predicted: medical\n"
          ]
        }
      ]
    },
    {
      "cell_type": "markdown",
      "source": [
        "# Model training using LogisticRegression\n"
      ],
      "metadata": {
        "id": "jTZkhW_GHq_-"
      }
    },
    {
      "cell_type": "code",
      "source": [
        "## Model training using LogisticRegression\n",
        "import pandas as pd\n",
        "import numpy as np\n",
        "import matplotlib.pyplot as plt\n",
        "from sklearn.model_selection import train_test_split, learning_curve\n",
        "from sklearn.feature_extraction.text import TfidfVectorizer\n",
        "from sklearn.linear_model import LogisticRegression\n",
        "from sklearn.metrics import accuracy_score, classification_report\n",
        "from imblearn.over_sampling import SMOTE\n",
        "\n",
        "# Load the cleaned dataset\n",
        "df = pd.read_csv('medical_non_medical_dataset.csv')\n",
        "\n",
        "# Check class distribution\n",
        "print(\"Original Data Distribution:\")\n",
        "print(df['label'].value_counts())\n"
      ],
      "metadata": {
        "colab": {
          "base_uri": "https://localhost:8080/"
        },
        "id": "I44F036W5p7s",
        "outputId": "4ddccdcf-56f5-4c11-a7bf-1fb9d5921d51"
      },
      "execution_count": 14,
      "outputs": [
        {
          "output_type": "stream",
          "name": "stdout",
          "text": [
            "Original Data Distribution:\n",
            "non-medical    44\n",
            "medical        44\n",
            "Name: label, dtype: int64\n"
          ]
        }
      ]
    },
    {
      "cell_type": "code",
      "source": [
        "# Data Splitting\n",
        "X_train, X_temp, y_train, y_temp = train_test_split(df['text'], df['label'], test_size=0.3, random_state=100)\n",
        "\n",
        "# Further split X_temp and y_temp into training and validation sets\n",
        "X_train, X_val, y_train, y_val = train_test_split(X_temp, y_temp, test_size=0.4, random_state=100)\n",
        "\n",
        "# Handle missing values in X_train, X_val, and X_test\n",
        "X_train = X_train.fillna('')\n",
        "X_val = X_val.fillna('')\n",
        "X_temp = X_temp.fillna('')\n"
      ],
      "metadata": {
        "id": "LolOgb125usw"
      },
      "execution_count": 15,
      "outputs": []
    },
    {
      "cell_type": "code",
      "source": [
        "# Feature Extraction (TF-IDF)\n",
        "tfidf_vectorizer = TfidfVectorizer(stop_words='english')\n",
        "X_train_tfidf = tfidf_vectorizer.fit_transform(X_train)\n",
        "X_val_tfidf = tfidf_vectorizer.transform(X_val)\n",
        "X_temp_tfidf = tfidf_vectorizer.transform(X_temp)\n"
      ],
      "metadata": {
        "id": "9GcCnhtD52Fv"
      },
      "execution_count": 16,
      "outputs": []
    },
    {
      "cell_type": "code",
      "source": [
        "# Resampling using SMOTE\n",
        "sampler = SMOTE(sampling_strategy='auto', k_neighbors=min(5, len(y_train) - 1))\n",
        "X_train_resampled, y_train_resampled = sampler.fit_resample(X_train_tfidf, y_train)\n"
      ],
      "metadata": {
        "id": "TilZCMUa53yC"
      },
      "execution_count": 17,
      "outputs": []
    },
    {
      "cell_type": "code",
      "source": [
        "# Model Selection and Training (Logistic Regression)\n",
        "model = LogisticRegression(random_state=100)\n",
        "model.fit(X_train_resampled, y_train_resampled)\n"
      ],
      "metadata": {
        "colab": {
          "base_uri": "https://localhost:8080/",
          "height": 74
        },
        "id": "aVMeTpl157Jo",
        "outputId": "1fc3bf73-f660-49e5-be6f-c2ea1f4691fb"
      },
      "execution_count": 18,
      "outputs": [
        {
          "output_type": "execute_result",
          "data": {
            "text/plain": [
              "LogisticRegression(random_state=100)"
            ],
            "text/html": [
              "<style>#sk-container-id-2 {color: black;background-color: white;}#sk-container-id-2 pre{padding: 0;}#sk-container-id-2 div.sk-toggleable {background-color: white;}#sk-container-id-2 label.sk-toggleable__label {cursor: pointer;display: block;width: 100%;margin-bottom: 0;padding: 0.3em;box-sizing: border-box;text-align: center;}#sk-container-id-2 label.sk-toggleable__label-arrow:before {content: \"▸\";float: left;margin-right: 0.25em;color: #696969;}#sk-container-id-2 label.sk-toggleable__label-arrow:hover:before {color: black;}#sk-container-id-2 div.sk-estimator:hover label.sk-toggleable__label-arrow:before {color: black;}#sk-container-id-2 div.sk-toggleable__content {max-height: 0;max-width: 0;overflow: hidden;text-align: left;background-color: #f0f8ff;}#sk-container-id-2 div.sk-toggleable__content pre {margin: 0.2em;color: black;border-radius: 0.25em;background-color: #f0f8ff;}#sk-container-id-2 input.sk-toggleable__control:checked~div.sk-toggleable__content {max-height: 200px;max-width: 100%;overflow: auto;}#sk-container-id-2 input.sk-toggleable__control:checked~label.sk-toggleable__label-arrow:before {content: \"▾\";}#sk-container-id-2 div.sk-estimator input.sk-toggleable__control:checked~label.sk-toggleable__label {background-color: #d4ebff;}#sk-container-id-2 div.sk-label input.sk-toggleable__control:checked~label.sk-toggleable__label {background-color: #d4ebff;}#sk-container-id-2 input.sk-hidden--visually {border: 0;clip: rect(1px 1px 1px 1px);clip: rect(1px, 1px, 1px, 1px);height: 1px;margin: -1px;overflow: hidden;padding: 0;position: absolute;width: 1px;}#sk-container-id-2 div.sk-estimator {font-family: monospace;background-color: #f0f8ff;border: 1px dotted black;border-radius: 0.25em;box-sizing: border-box;margin-bottom: 0.5em;}#sk-container-id-2 div.sk-estimator:hover {background-color: #d4ebff;}#sk-container-id-2 div.sk-parallel-item::after {content: \"\";width: 100%;border-bottom: 1px solid gray;flex-grow: 1;}#sk-container-id-2 div.sk-label:hover label.sk-toggleable__label {background-color: #d4ebff;}#sk-container-id-2 div.sk-serial::before {content: \"\";position: absolute;border-left: 1px solid gray;box-sizing: border-box;top: 0;bottom: 0;left: 50%;z-index: 0;}#sk-container-id-2 div.sk-serial {display: flex;flex-direction: column;align-items: center;background-color: white;padding-right: 0.2em;padding-left: 0.2em;position: relative;}#sk-container-id-2 div.sk-item {position: relative;z-index: 1;}#sk-container-id-2 div.sk-parallel {display: flex;align-items: stretch;justify-content: center;background-color: white;position: relative;}#sk-container-id-2 div.sk-item::before, #sk-container-id-2 div.sk-parallel-item::before {content: \"\";position: absolute;border-left: 1px solid gray;box-sizing: border-box;top: 0;bottom: 0;left: 50%;z-index: -1;}#sk-container-id-2 div.sk-parallel-item {display: flex;flex-direction: column;z-index: 1;position: relative;background-color: white;}#sk-container-id-2 div.sk-parallel-item:first-child::after {align-self: flex-end;width: 50%;}#sk-container-id-2 div.sk-parallel-item:last-child::after {align-self: flex-start;width: 50%;}#sk-container-id-2 div.sk-parallel-item:only-child::after {width: 0;}#sk-container-id-2 div.sk-dashed-wrapped {border: 1px dashed gray;margin: 0 0.4em 0.5em 0.4em;box-sizing: border-box;padding-bottom: 0.4em;background-color: white;}#sk-container-id-2 div.sk-label label {font-family: monospace;font-weight: bold;display: inline-block;line-height: 1.2em;}#sk-container-id-2 div.sk-label-container {text-align: center;}#sk-container-id-2 div.sk-container {/* jupyter's `normalize.less` sets `[hidden] { display: none; }` but bootstrap.min.css set `[hidden] { display: none !important; }` so we also need the `!important` here to be able to override the default hidden behavior on the sphinx rendered scikit-learn.org. See: https://github.com/scikit-learn/scikit-learn/issues/21755 */display: inline-block !important;position: relative;}#sk-container-id-2 div.sk-text-repr-fallback {display: none;}</style><div id=\"sk-container-id-2\" class=\"sk-top-container\"><div class=\"sk-text-repr-fallback\"><pre>LogisticRegression(random_state=100)</pre><b>In a Jupyter environment, please rerun this cell to show the HTML representation or trust the notebook. <br />On GitHub, the HTML representation is unable to render, please try loading this page with nbviewer.org.</b></div><div class=\"sk-container\" hidden><div class=\"sk-item\"><div class=\"sk-estimator sk-toggleable\"><input class=\"sk-toggleable__control sk-hidden--visually\" id=\"sk-estimator-id-2\" type=\"checkbox\" checked><label for=\"sk-estimator-id-2\" class=\"sk-toggleable__label sk-toggleable__label-arrow\">LogisticRegression</label><div class=\"sk-toggleable__content\"><pre>LogisticRegression(random_state=100)</pre></div></div></div></div></div>"
            ]
          },
          "metadata": {},
          "execution_count": 18
        }
      ]
    },
    {
      "cell_type": "code",
      "source": [
        "# Model Evaluation on Validation Set with Misclassification Analysis\n",
        "val_predictions = model.predict(X_val_tfidf)\n",
        "val_accuracy = accuracy_score(y_val, val_predictions)\n",
        "print(f\"\\nValidation Accuracy: {val_accuracy}\")\n",
        "print(\"Validation Classification Report:\\n\", classification_report(y_val, val_predictions))"
      ],
      "metadata": {
        "colab": {
          "base_uri": "https://localhost:8080/"
        },
        "id": "qipohIpJ6AGL",
        "outputId": "0f23f3af-255f-4571-d7b6-2fd50b120088"
      },
      "execution_count": 27,
      "outputs": [
        {
          "output_type": "stream",
          "name": "stdout",
          "text": [
            "\n",
            "Validation Accuracy: 0.7272727272727273\n",
            "Validation Classification Report:\n",
            "               precision    recall  f1-score   support\n",
            "\n",
            "     medical       1.00      0.57      0.73         7\n",
            " non-medical       0.57      1.00      0.73         4\n",
            "\n",
            "    accuracy                           0.73        11\n",
            "   macro avg       0.79      0.79      0.73        11\n",
            "weighted avg       0.84      0.73      0.73        11\n",
            "\n"
          ]
        }
      ]
    },
    {
      "cell_type": "code",
      "source": [
        "# Analyze Misclassifications on Validation Set\n",
        "misclassified_indices = [i for i, (true_label, pred_label) in enumerate(zip(y_val, val_predictions)) if true_label != pred_label]\n",
        "misclassified_examples = X_val.iloc[misclassified_indices].tolist()\n",
        "true_labels = y_val.iloc[misclassified_indices].tolist()\n",
        "pred_labels = val_predictions[misclassified_indices]\n",
        "\n",
        "# print(\"\\nMisclassified Examples on Validation Set:\")\n",
        "# for text, true_label, pred_label in zip(misclassified_examples, true_labels, pred_labels):\n",
        "#     print(f\"Text: {text} - True Label: {true_label} - Predicted Label: {pred_label}\")"
      ],
      "metadata": {
        "id": "nHNXmy8t4sNy"
      },
      "execution_count": 20,
      "outputs": []
    },
    {
      "cell_type": "code",
      "source": [
        "# Learning Curve for Overfitting/Underfitting Check\n",
        "train_sizes, train_scores, test_scores = learning_curve(nb_model, X_temp_tfidf, y_temp, cv=5, train_sizes=np.linspace(0.1, 1.0, 10), scoring='accuracy')\n"
      ],
      "metadata": {
        "id": "pcfEJdPp4xg6"
      },
      "execution_count": 21,
      "outputs": []
    },
    {
      "cell_type": "code",
      "source": [
        "# Plot the learning curve\n",
        "plt.figure(figsize=(10, 6))\n",
        "plt.plot(train_sizes, np.mean(train_scores, axis=1), label='Training Score')\n",
        "plt.plot(train_sizes, np.mean(test_scores, axis=1), label='Cross-Validation Score')\n",
        "plt.title('Learning Curve for Naive Bayes')\n",
        "plt.xlabel('Training Examples')\n",
        "plt.ylabel('Accuracy Score')\n",
        "plt.legend()\n",
        "plt.show()"
      ],
      "metadata": {
        "id": "sCQE7c6t41V1",
        "outputId": "52111b7d-a6a7-4d1e-d5b1-133c3ae40ce9",
        "colab": {
          "base_uri": "https://localhost:8080/",
          "height": 564
        }
      },
      "execution_count": 22,
      "outputs": [
        {
          "output_type": "display_data",
          "data": {
            "text/plain": [
              "<Figure size 1000x600 with 1 Axes>"
            ],
            "image/png": "[encoded data removed]"
          },
          "metadata": {}
        }
      ]
    },
    {
      "cell_type": "code",
      "source": [
        "# Model Evaluation on Test Set\n",
        "X_temp_resampled, y_temp_resampled = sampler.fit_resample(X_temp_tfidf, y_temp)\n",
        "test_predictions = nb_model.predict(X_temp_resampled)\n",
        "test_accuracy = accuracy_score(y_temp_resampled, test_predictions)\n",
        "print(f\"\\nTest Accuracy: {test_accuracy}\")\n",
        "print(\"Test Classification Report:\\n\", classification_report(y_temp_resampled, test_predictions))"
      ],
      "metadata": {
        "id": "hltXQV0546OI",
        "outputId": "326a2c83-5605-45d2-99de-7cd3a1780757",
        "colab": {
          "base_uri": "https://localhost:8080/"
        }
      },
      "execution_count": 23,
      "outputs": [
        {
          "output_type": "stream",
          "name": "stdout",
          "text": [
            "\n",
            "Test Accuracy: 0.9642857142857143\n",
            "Test Classification Report:\n",
            "               precision    recall  f1-score   support\n",
            "\n",
            "     medical       1.00      0.93      0.96        14\n",
            " non-medical       0.93      1.00      0.97        14\n",
            "\n",
            "    accuracy                           0.96        28\n",
            "   macro avg       0.97      0.96      0.96        28\n",
            "weighted avg       0.97      0.96      0.96        28\n",
            "\n"
          ]
        }
      ]
    },
    {
      "cell_type": "code",
      "source": [
        "# Example of making predictions on more new data using Logistic Regression\n",
        "new_data_extended = [\n",
        "    \"heart disease\",\n",
        "    \"expression varies across cultures.\",\n",
        "    \"New year in Ethiopia is good.\"\n",
        "]\n",
        "\n",
        "new_data_extended_tfidf = tfidf_vectorizer.transform(new_data_extended)\n",
        "new_predictions_extended = model.predict(new_data_extended_tfidf)\n",
        "\n",
        "print(\"\\nLogistic Regression Predictions on more new data:\")\n",
        "for text, prediction in zip(new_data_extended, new_predictions_extended):\n",
        "    print(f\"{text} - Predicted: {prediction}\")\n"
      ],
      "metadata": {
        "colab": {
          "base_uri": "https://localhost:8080/"
        },
        "id": "tSY6Oz3G6Ov6",
        "outputId": "a45638cb-87ab-4c87-9df8-8893dbb20d6b"
      },
      "execution_count": 24,
      "outputs": [
        {
          "output_type": "stream",
          "name": "stdout",
          "text": [
            "\n",
            "Logistic Regression Predictions on more new data:\n",
            "heart disease - Predicted: medical\n",
            "expression varies across cultures. - Predicted: non-medical\n",
            "New year in Ethiopia is good. - Predicted: non-medical\n"
          ]
        }
      ]
    }
  ]
}